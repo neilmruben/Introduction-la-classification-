{
 "cells": [
  {
   "cell_type": "markdown",
   "id": "73f18f0e-d72f-4050-a764-d29e4a0c3641",
   "metadata": {},
   "source": [
    "#### Comme promis nous voici sur Jupyter ... Notebook ! \n",
    "\n",
    "####  Vous allez pouvoir découvrir le premier cas pratique à travers ce notebook, vous pouvez naviguer à travers ce notebook en cliquant sur les parties annoncées dans le sommaire (en bleu). Pour pouvoir exécuter une ligne de code, vous pourrez appuyer sur le bouton suivant (ou CRTL + ENTER) :\n",
    "\n",
    "#### Ici, en cliquant sur le symbole \"+\" vous pourrez créer une nouvelle cellule et pouvoir écrire votre propre ligne de code : \n",
    "\n",
    "#### Vous pouvez essayer directement sur le notebook \n",
    "\n",
    "- 1) en cliquant sur le symbole \"+\" \n",
    "\n",
    "- 2) en entrant la commande suivante :    print(\"Hello world !\") \n",
    " \n",
    "- 3) suivie de CTRL + ENTER\n"
   ]
  },
  {
   "cell_type": "code",
   "execution_count": 1,
   "id": "aea06d96-6473-440f-b750-6eee81c6e60d",
   "metadata": {},
   "outputs": [
    {
     "name": "stdout",
     "output_type": "stream",
     "text": [
      "Hello world !\n"
     ]
    }
   ],
   "source": [
    "print(\"Hello world !\")"
   ]
  },
  {
   "cell_type": "markdown",
   "id": "d85e8c14-04c6-4c2e-87e5-4d453b0d6d3e",
   "metadata": {},
   "source": [
    "#### Si vous souhaitez relancer le notebook (réexécuter le code par exemple) vous pouvez appuyer sur ce bouton :\n"
   ]
  },
  {
   "cell_type": "markdown",
   "id": "3b16e3be-7e0c-48d3-ae78-e0993250cc98",
   "metadata": {},
   "source": [
    "## Apprendre à notre robot à ranger une armoire : Sommaire : \n",
    "\n",
    "### [I) Import des librairies & des données](#I)\n",
    "### [II) Description & traitement des données ](#II)\n",
    "### [III) Application du modèle](#III)\n",
    "### [IV) Prédiction](#IV)\n",
    "\n"
   ]
  },
  {
   "cell_type": "markdown",
   "id": "6b6fdb67-0662-4f56-bafb-123a4b9d8577",
   "metadata": {
    "tags": []
   },
   "source": [
    "# <a id='I'> I) Import des librairies & des données </a> "
   ]
  },
  {
   "cell_type": "markdown",
   "id": "7113668a-ab26-43c0-9511-6e9d0663f243",
   "metadata": {},
   "source": [
    "\n",
    "\n",
    "#### Ici on va importer la librairie Scikit-learn, une librairie qui permet d'accèder à un panel complet d'algorithme de machine learning et de traitement des données. $\\;\\;\\;\\;\\;\\;$ &nbsp;\n",
    "#### On va donc importer les modules qui nous intéressent comme l'algorithme de classification grâce à la commande : from sklearn.naive_bayes import MultinomialNB"
   ]
  },
  {
   "cell_type": "code",
   "execution_count": 13,
   "id": "8b02022d-1f22-48d4-b7bc-cd502e8e0f7f",
   "metadata": {},
   "outputs": [],
   "source": [
    "from sklearn.naive_bayes import MultinomialNB\n",
    "from sklearn.preprocessing import LabelEncoder\n",
    "from sklearn.model_selection import train_test_split\n",
    "from sklearn.metrics import accuracy_score\n",
    "\n",
    "import pandas as pd "
   ]
  },
  {
   "cell_type": "markdown",
   "id": "720db4eb-43e3-482a-ac40-d72adf3bbaad",
   "metadata": {},
   "source": [
    "#### On peut comparer une librairie en programmation à une vraie librairie où l'on va choisir un livre (un module ou une fonction) adapté à notre problématique !"
   ]
  },
  {
   "cell_type": "markdown",
   "id": "b35fc263-8b1f-4b83-8272-bdc1bb72a602",
   "metadata": {},
   "source": [
    "### L'étape suivante est d'importer un fichier csv contenant nos données : "
   ]
  },
  {
   "cell_type": "code",
   "execution_count": 14,
   "id": "3cc1bd23-781c-4f61-8ff0-7753430694b5",
   "metadata": {},
   "outputs": [],
   "source": [
    "df = pd.read_csv(\"data.csv\", sep=\",\") # ici pd correspond à l'appelation de la librairie \"pandas\" une librairie permettant la manipulation de base de donnée "
   ]
  },
  {
   "cell_type": "markdown",
   "id": "179c9ff0-a975-4b5a-b4df-3a00e49ca1aa",
   "metadata": {},
   "source": [
    "# <a id='II'> II) Description & traitement des données </a> "
   ]
  },
  {
   "cell_type": "code",
   "execution_count": 15,
   "id": "dbc7390a-1afc-45ec-a622-79fb5e97835b",
   "metadata": {},
   "outputs": [
    {
     "data": {
      "text/html": [
       "<div>\n",
       "<style scoped>\n",
       "    .dataframe tbody tr th:only-of-type {\n",
       "        vertical-align: middle;\n",
       "    }\n",
       "\n",
       "    .dataframe tbody tr th {\n",
       "        vertical-align: top;\n",
       "    }\n",
       "\n",
       "    .dataframe thead th {\n",
       "        text-align: right;\n",
       "    }\n",
       "</style>\n",
       "<table border=\"1\" class=\"dataframe\">\n",
       "  <thead>\n",
       "    <tr style=\"text-align: right;\">\n",
       "      <th></th>\n",
       "      <th>Date</th>\n",
       "      <th>Mes vêtements</th>\n",
       "      <th>Pile de vêtement associé</th>\n",
       "    </tr>\n",
       "  </thead>\n",
       "  <tbody>\n",
       "    <tr>\n",
       "      <th>0</th>\n",
       "      <td>2022-02-05</td>\n",
       "      <td>chino gris</td>\n",
       "      <td>pile des pantalons</td>\n",
       "    </tr>\n",
       "    <tr>\n",
       "      <th>1</th>\n",
       "      <td>2022-02-05</td>\n",
       "      <td>t-shirt rouge</td>\n",
       "      <td>pile des t-shirts</td>\n",
       "    </tr>\n",
       "    <tr>\n",
       "      <th>2</th>\n",
       "      <td>2022-03-05</td>\n",
       "      <td>parka gris</td>\n",
       "      <td>pile des vestes / manteaux</td>\n",
       "    </tr>\n",
       "    <tr>\n",
       "      <th>3</th>\n",
       "      <td>2022-03-05</td>\n",
       "      <td>cravate vert</td>\n",
       "      <td>pile des accessoires</td>\n",
       "    </tr>\n",
       "    <tr>\n",
       "      <th>4</th>\n",
       "      <td>2022-04-05</td>\n",
       "      <td>cravate noir</td>\n",
       "      <td>pile des accessoires</td>\n",
       "    </tr>\n",
       "    <tr>\n",
       "      <th>...</th>\n",
       "      <td>...</td>\n",
       "      <td>...</td>\n",
       "      <td>...</td>\n",
       "    </tr>\n",
       "    <tr>\n",
       "      <th>495</th>\n",
       "      <td>2023-04-01</td>\n",
       "      <td>t-shirt orange</td>\n",
       "      <td>pile des t-shirts</td>\n",
       "    </tr>\n",
       "    <tr>\n",
       "      <th>496</th>\n",
       "      <td>2023-05-01</td>\n",
       "      <td>chaussette rouge</td>\n",
       "      <td>pile des accessoires</td>\n",
       "    </tr>\n",
       "    <tr>\n",
       "      <th>497</th>\n",
       "      <td>2023-05-01</td>\n",
       "      <td>doudoune jaune</td>\n",
       "      <td>pile des vestes / manteaux</td>\n",
       "    </tr>\n",
       "    <tr>\n",
       "      <th>498</th>\n",
       "      <td>2023-06-01</td>\n",
       "      <td>cravate blanc</td>\n",
       "      <td>pile des accessoires</td>\n",
       "    </tr>\n",
       "    <tr>\n",
       "      <th>499</th>\n",
       "      <td>2023-06-01</td>\n",
       "      <td>perfecto noir</td>\n",
       "      <td>pile des vestes / manteaux</td>\n",
       "    </tr>\n",
       "  </tbody>\n",
       "</table>\n",
       "<p>500 rows × 3 columns</p>\n",
       "</div>"
      ],
      "text/plain": [
       "           Date     Mes vêtements    Pile de vêtement associé\n",
       "0    2022-02-05        chino gris          pile des pantalons\n",
       "1    2022-02-05     t-shirt rouge           pile des t-shirts\n",
       "2    2022-03-05        parka gris  pile des vestes / manteaux\n",
       "3    2022-03-05      cravate vert        pile des accessoires\n",
       "4    2022-04-05      cravate noir        pile des accessoires\n",
       "..          ...               ...                         ...\n",
       "495  2023-04-01    t-shirt orange           pile des t-shirts\n",
       "496  2023-05-01  chaussette rouge        pile des accessoires\n",
       "497  2023-05-01    doudoune jaune  pile des vestes / manteaux\n",
       "498  2023-06-01     cravate blanc        pile des accessoires\n",
       "499  2023-06-01     perfecto noir  pile des vestes / manteaux\n",
       "\n",
       "[500 rows x 3 columns]"
      ]
     },
     "execution_count": 15,
     "metadata": {},
     "output_type": "execute_result"
    }
   ],
   "source": [
    "df # voici notre dataframe "
   ]
  },
  {
   "cell_type": "markdown",
   "id": "7dbcaae6-5ce6-42dc-aa2a-7466f837f185",
   "metadata": {},
   "source": [
    "#### Nous pouvons voir ici notre base de donnée (dataframe) composé de 500 lignes (500 observations) pour 3 colonnes, comme expliqué dans la partie précédente on se servira uniquement de la colonne \"Mes vêtements\" (X) et de \"Pile de vêtement associé\" (Y), ici X est déjà labellisé, par exemple :\n",
    "\n",
    "- on sait qu'un chino gris (X1) va dans la pile des pantalons (Y1)\n",
    "- on sait qu'un t-shirt rouge (X2) va dans la pile des t-shirts (Y2)\n",
    "\n",
    "#### On va donc décomposer dans la prochaine étape notre dataframe entre X et Y puis fragmenter en deux notre base de donnée entre une base de donnée d'entraînement (75% de données). Cette base de donnée d'entraînement va servir à l'apprentissage de notre algorithme puis les 25% restantes vont servir au test de notre algorithme (notre algorithme va donc devoir lui-même labellisé les vêtements à partir de ce qu'il a appris avec la base de donnée d'entraînement. "
   ]
  },
  {
   "cell_type": "markdown",
   "id": "1ab4c00d-3a73-4872-ba5a-32a3a6ff12cf",
   "metadata": {},
   "source": [
    "# <a id='III'> III) Application du modèle </a> "
   ]
  },
  {
   "cell_type": "code",
   "execution_count": 16,
   "id": "93b16983-698e-4504-8cbf-5414f3c110d6",
   "metadata": {},
   "outputs": [],
   "source": [
    "X = df['Mes vêtements']\n",
    "y = df['Pile de vêtement associé']"
   ]
  },
  {
   "cell_type": "code",
   "execution_count": 17,
   "id": "a9e67e68-0c5f-477a-a21a-76897a690036",
   "metadata": {},
   "outputs": [],
   "source": [
    "X_train, X_test, y_train, y_test = train_test_split(X, y, test_size=0.2, random_state=42)"
   ]
  },
  {
   "cell_type": "code",
   "execution_count": 18,
   "id": "7b5cea16-c15d-4db6-bbf4-7ea8b13a49eb",
   "metadata": {},
   "outputs": [],
   "source": [
    "vectorizer = CountVectorizer()\n",
    "X_train_vec = vectorizer.fit_transform(X_train)\n",
    "X_test_vec = vectorizer.transform(X_test)"
   ]
  },
  {
   "cell_type": "code",
   "execution_count": 19,
   "id": "71a77d60-186f-4f54-a57b-323f3c3eddb3",
   "metadata": {},
   "outputs": [
    {
     "data": {
      "text/html": [
       "<style>#sk-container-id-1 {color: black;background-color: white;}#sk-container-id-1 pre{padding: 0;}#sk-container-id-1 div.sk-toggleable {background-color: white;}#sk-container-id-1 label.sk-toggleable__label {cursor: pointer;display: block;width: 100%;margin-bottom: 0;padding: 0.3em;box-sizing: border-box;text-align: center;}#sk-container-id-1 label.sk-toggleable__label-arrow:before {content: \"▸\";float: left;margin-right: 0.25em;color: #696969;}#sk-container-id-1 label.sk-toggleable__label-arrow:hover:before {color: black;}#sk-container-id-1 div.sk-estimator:hover label.sk-toggleable__label-arrow:before {color: black;}#sk-container-id-1 div.sk-toggleable__content {max-height: 0;max-width: 0;overflow: hidden;text-align: left;background-color: #f0f8ff;}#sk-container-id-1 div.sk-toggleable__content pre {margin: 0.2em;color: black;border-radius: 0.25em;background-color: #f0f8ff;}#sk-container-id-1 input.sk-toggleable__control:checked~div.sk-toggleable__content {max-height: 200px;max-width: 100%;overflow: auto;}#sk-container-id-1 input.sk-toggleable__control:checked~label.sk-toggleable__label-arrow:before {content: \"▾\";}#sk-container-id-1 div.sk-estimator input.sk-toggleable__control:checked~label.sk-toggleable__label {background-color: #d4ebff;}#sk-container-id-1 div.sk-label input.sk-toggleable__control:checked~label.sk-toggleable__label {background-color: #d4ebff;}#sk-container-id-1 input.sk-hidden--visually {border: 0;clip: rect(1px 1px 1px 1px);clip: rect(1px, 1px, 1px, 1px);height: 1px;margin: -1px;overflow: hidden;padding: 0;position: absolute;width: 1px;}#sk-container-id-1 div.sk-estimator {font-family: monospace;background-color: #f0f8ff;border: 1px dotted black;border-radius: 0.25em;box-sizing: border-box;margin-bottom: 0.5em;}#sk-container-id-1 div.sk-estimator:hover {background-color: #d4ebff;}#sk-container-id-1 div.sk-parallel-item::after {content: \"\";width: 100%;border-bottom: 1px solid gray;flex-grow: 1;}#sk-container-id-1 div.sk-label:hover label.sk-toggleable__label {background-color: #d4ebff;}#sk-container-id-1 div.sk-serial::before {content: \"\";position: absolute;border-left: 1px solid gray;box-sizing: border-box;top: 0;bottom: 0;left: 50%;z-index: 0;}#sk-container-id-1 div.sk-serial {display: flex;flex-direction: column;align-items: center;background-color: white;padding-right: 0.2em;padding-left: 0.2em;position: relative;}#sk-container-id-1 div.sk-item {position: relative;z-index: 1;}#sk-container-id-1 div.sk-parallel {display: flex;align-items: stretch;justify-content: center;background-color: white;position: relative;}#sk-container-id-1 div.sk-item::before, #sk-container-id-1 div.sk-parallel-item::before {content: \"\";position: absolute;border-left: 1px solid gray;box-sizing: border-box;top: 0;bottom: 0;left: 50%;z-index: -1;}#sk-container-id-1 div.sk-parallel-item {display: flex;flex-direction: column;z-index: 1;position: relative;background-color: white;}#sk-container-id-1 div.sk-parallel-item:first-child::after {align-self: flex-end;width: 50%;}#sk-container-id-1 div.sk-parallel-item:last-child::after {align-self: flex-start;width: 50%;}#sk-container-id-1 div.sk-parallel-item:only-child::after {width: 0;}#sk-container-id-1 div.sk-dashed-wrapped {border: 1px dashed gray;margin: 0 0.4em 0.5em 0.4em;box-sizing: border-box;padding-bottom: 0.4em;background-color: white;}#sk-container-id-1 div.sk-label label {font-family: monospace;font-weight: bold;display: inline-block;line-height: 1.2em;}#sk-container-id-1 div.sk-label-container {text-align: center;}#sk-container-id-1 div.sk-container {/* jupyter's `normalize.less` sets `[hidden] { display: none; }` but bootstrap.min.css set `[hidden] { display: none !important; }` so we also need the `!important` here to be able to override the default hidden behavior on the sphinx rendered scikit-learn.org. See: https://github.com/scikit-learn/scikit-learn/issues/21755 */display: inline-block !important;position: relative;}#sk-container-id-1 div.sk-text-repr-fallback {display: none;}</style><div id=\"sk-container-id-1\" class=\"sk-top-container\"><div class=\"sk-text-repr-fallback\"><pre>MultinomialNB()</pre><b>In a Jupyter environment, please rerun this cell to show the HTML representation or trust the notebook. <br />On GitHub, the HTML representation is unable to render, please try loading this page with nbviewer.org.</b></div><div class=\"sk-container\" hidden><div class=\"sk-item\"><div class=\"sk-estimator sk-toggleable\"><input class=\"sk-toggleable__control sk-hidden--visually\" id=\"sk-estimator-id-1\" type=\"checkbox\" checked><label for=\"sk-estimator-id-1\" class=\"sk-toggleable__label sk-toggleable__label-arrow\">MultinomialNB</label><div class=\"sk-toggleable__content\"><pre>MultinomialNB()</pre></div></div></div></div></div>"
      ],
      "text/plain": [
       "MultinomialNB()"
      ]
     },
     "execution_count": 19,
     "metadata": {},
     "output_type": "execute_result"
    }
   ],
   "source": [
    "naive_bayes = MultinomialNB()\n",
    "naive_bayes.fit(X_train_vec, y_train)"
   ]
  },
  {
   "cell_type": "code",
   "execution_count": 21,
   "id": "a3d70fc3-aa8d-4709-b624-3d88c203c759",
   "metadata": {},
   "outputs": [],
   "source": [
    "y_pred = naive_bayes.predict(X_test_vec)"
   ]
  },
  {
   "cell_type": "code",
   "execution_count": 44,
   "id": "6e17b5e9-4eb2-473c-bdfd-5fc2ebb8e227",
   "metadata": {},
   "outputs": [
    {
     "name": "stdout",
     "output_type": "stream",
     "text": [
      "Précision du modèle: 1.0\n"
     ]
    }
   ],
   "source": [
    "accuracy = accuracy_score(y_test, y_pred)\n",
    "print(\"Précision du modèle:\", accuracy)"
   ]
  },
  {
   "cell_type": "markdown",
   "id": "8411e347-a35a-4488-9324-ed8b6ce53e27",
   "metadata": {},
   "source": [
    "# <a id='IV'> IV) Prédiction </a> "
   ]
  },
  {
   "cell_type": "code",
   "execution_count": 43,
   "id": "9098ec8c-f70a-4c19-99b0-6185fda8ea9c",
   "metadata": {},
   "outputs": [
    {
     "name": "stdin",
     "output_type": "stream",
     "text": [
      "Entrez un vêtement :  pantalon magentra\n"
     ]
    },
    {
     "name": "stdout",
     "output_type": "stream",
     "text": [
      "Prédiction : le  'pantalon magentra' doit être rangé dans la 'pile des pantalons'\n"
     ]
    }
   ],
   "source": [
    "# Demandez à l'utilisateur d'entrer un vêtement\n",
    "new_clothing = input(\"Entrez un vêtement : \")\n",
    "\n",
    "# Transformez le nouveau vêtement en vecteur numérique à l'aide du même transformateur CountVectorizer\n",
    "new_clothing_vec = vectorizer.transform([new_clothing])\n",
    "\n",
    "# Faites une prédiction sur le nouveau vêtement\n",
    "prediction = naive_bayes.predict(new_clothing_vec)\n",
    "\n",
    "print(f\"Prédiction : le  '{new_clothing}' doit être rangé dans la '{prediction[0]}'\")"
   ]
  }
 ],
 "metadata": {
  "kernelspec": {
   "display_name": "Python 3 (ipykernel)",
   "language": "python",
   "name": "python3"
  },
  "language_info": {
   "codemirror_mode": {
    "name": "ipython",
    "version": 3
   },
   "file_extension": ".py",
   "mimetype": "text/x-python",
   "name": "python",
   "nbconvert_exporter": "python",
   "pygments_lexer": "ipython3",
   "version": "3.9.12"
  }
 },
 "nbformat": 4,
 "nbformat_minor": 5
}
